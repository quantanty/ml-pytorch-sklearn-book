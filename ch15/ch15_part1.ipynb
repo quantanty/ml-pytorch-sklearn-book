{
 "cells": [
  {
   "cell_type": "code",
   "execution_count": 1,
   "id": "09ed5691",
   "metadata": {},
   "outputs": [
    {
     "name": "stdout",
     "output_type": "stream",
     "text": [
      "W_xh shape: torch.Size([2, 5])\n",
      "W_hh shape: torch.Size([2, 2])\n",
      "b_xh shape torch.Size([2])\n",
      "b_hh shape: torch.Size([2])\n"
     ]
    }
   ],
   "source": [
    "import torch\n",
    "import torch.nn as nn\n",
    "torch.manual_seed(1)\n",
    "\n",
    "rnn_layer = nn.RNN(input_size=5, hidden_size=2, num_layers=1, batch_first=True)\n",
    "w_xh = rnn_layer.weight_ih_l0\n",
    "w_hh = rnn_layer.weight_hh_l0\n",
    "b_xh = rnn_layer.bias_ih_l0\n",
    "b_hh = rnn_layer.bias_hh_l0\n",
    "\n",
    "print('W_xh shape:', w_xh.shape)\n",
    "print('W_hh shape:', w_hh.shape)\n",
    "print('b_xh shape', b_xh.shape)\n",
    "print('b_hh shape:', b_hh.shape)"
   ]
  },
  {
   "cell_type": "code",
   "execution_count": 4,
   "id": "d066d837",
   "metadata": {},
   "outputs": [
    {
     "name": "stdout",
     "output_type": "stream",
     "text": [
      "time step 0 =>\n",
      "\tInput\t\t: [[1. 1. 1. 1. 1.]]\n",
      "\tHidden\t\t: [[-0.4701929   0.58639044]]\n",
      "\tOutput (manual) : [[-0.3519801   0.52525216]]\n",
      "\tRNN output\t: [[-0.3519801   0.52525216]]\n",
      "\n",
      "time step 1 =>\n",
      "\tInput\t\t: [[2. 2. 2. 2. 2.]]\n",
      "\tHidden\t\t: [[-0.88883156  1.2364398 ]]\n",
      "\tOutput (manual) : [[-0.68424344  0.76074266]]\n",
      "\tRNN output\t: [[-0.68424344  0.76074266]]\n",
      "\n",
      "time step 2 =>\n",
      "\tInput\t\t: [[3. 3. 3. 3. 3.]]\n",
      "\tHidden\t\t: [[-1.3074702  1.8864892]]\n",
      "\tOutput (manual) : [[-0.8649416  0.9046636]]\n",
      "\tRNN output\t: [[-0.8649416  0.9046636]]\n",
      "\n"
     ]
    }
   ],
   "source": [
    "x_seq = torch.tensor([[1.0]*5, [2.0]*5, [3.0]*5]).float()\n",
    "output, hn = rnn_layer(torch.reshape(x_seq, (1, 3, 5)))\n",
    "\n",
    "out_man = []\n",
    "for t in range(3):\n",
    "    xt = torch.reshape(x_seq[t], (1, 5))\n",
    "    print(f'time step {t} =>')\n",
    "    print('\\tInput\\t\\t:', xt.numpy())\n",
    "\n",
    "    ht = torch.matmul(xt, torch.transpose(w_xh, 0, 1)) + b_xh\n",
    "    print('\\tHidden\\t\\t:', ht.detach().numpy())\n",
    "\n",
    "    if t > 0:\n",
    "        prev_h = out_man[t-1]\n",
    "    else:\n",
    "        prev_h = torch.zeros((ht.shape))\n",
    "    ot = ht + torch.matmul(prev_h, torch.transpose(w_hh, 0, 1)) + b_hh\n",
    "    ot = torch.tanh(ot)\n",
    "    out_man.append(ot)\n",
    "    print('\\tOutput (manual) :', ot.detach().numpy())\n",
    "    print('\\tRNN output\\t:', output[:, t].detach().numpy())\n",
    "    print()"
   ]
  }
 ],
 "metadata": {
  "kernelspec": {
   "display_name": "jupyter-env",
   "language": "python",
   "name": "python3"
  },
  "language_info": {
   "codemirror_mode": {
    "name": "ipython",
    "version": 3
   },
   "file_extension": ".py",
   "mimetype": "text/x-python",
   "name": "python",
   "nbconvert_exporter": "python",
   "pygments_lexer": "ipython3",
   "version": "3.12.3"
  }
 },
 "nbformat": 4,
 "nbformat_minor": 5
}
