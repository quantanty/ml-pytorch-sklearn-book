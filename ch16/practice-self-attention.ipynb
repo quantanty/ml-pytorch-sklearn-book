{
 "cells": [
  {
   "cell_type": "code",
   "execution_count": 1,
   "id": "067e526b",
   "metadata": {},
   "outputs": [],
   "source": [
    "import torch\n",
    "from torch import nn"
   ]
  },
  {
   "cell_type": "code",
   "execution_count": 9,
   "id": "fea64778",
   "metadata": {},
   "outputs": [
    {
     "data": {
      "text/plain": [
       "torch.Size([41, 16])"
      ]
     },
     "execution_count": 9,
     "metadata": {},
     "output_type": "execute_result"
    }
   ],
   "source": [
    "torch.manual_seed(1)\n",
    "sequence = torch.randint(0, 30, (41,))\n",
    "embed = nn.Embedding(30, 16)\n",
    "embedded_sequence = embed(sequence).detach()\n",
    "\n",
    "d, d_k, d_v = 16, 14, 15\n",
    "W_Q = torch.rand(d, d_k)\n",
    "W_K = torch.rand(d, d_k)\n",
    "W_V = torch.rand(d, d_v)\n",
    "W_O = torch.rand(d_v, d)\n",
    "\n",
    "Q = embedded_sequence @ W_Q\n",
    "K = embedded_sequence @ W_K\n",
    "V = embedded_sequence @ W_V\n",
    "\n",
    "attn_weights = torch.softmax(Q @ K.permute(-1, -2) / d_k**0.5, dim=1)\n",
    "attn_output = (attn_weights @ V) @ W_O\n",
    "attn_output.shape"
   ]
  },
  {
   "cell_type": "code",
   "execution_count": null,
   "id": "e083a04e",
   "metadata": {},
   "outputs": [
    {
     "data": {
      "text/plain": [
       "torch.Size([41, 16])"
      ]
     },
     "execution_count": 28,
     "metadata": {},
     "output_type": "execute_result"
    }
   ],
   "source": [
    "torch.manual_seed(1)\n",
    "sequence = torch.randint(0, 30, (41,))\n",
    "embed = nn.Embedding(30, 16)\n",
    "embedded_sequence = embed(sequence).detach()\n",
    "\n",
    "d, d_k, d_v = 16, 14, 15\n",
    "h = 8\n",
    "\n",
    "W_Q = torch.rand(h, d, d_k)\n",
    "W_K = torch.rand(h, d, d_k)\n",
    "W_V = torch.rand(h, d, d_v)\n",
    "W_O = torch.rand(h*d_v, d)\n",
    "\n",
    "Q = embedded_sequence @ W_Q\n",
    "K = embedded_sequence @ W_K\n",
    "V = embedded_sequence @ W_V\n",
    "\n",
    "attn_weights = torch.softmax(Q @ K.transpose(-1, -2) / d_k**0.5, dim=2)\n",
    "attn_output = (attn_weights @ V).transpose(0, 1).flatten(1, 2) @ W_O\n",
    "attn_output.shape"
   ]
  }
 ],
 "metadata": {
  "kernelspec": {
   "display_name": "cloudspace",
   "language": "python",
   "name": "python3"
  },
  "language_info": {
   "codemirror_mode": {
    "name": "ipython",
    "version": 3
   },
   "file_extension": ".py",
   "mimetype": "text/x-python",
   "name": "python",
   "nbconvert_exporter": "python",
   "pygments_lexer": "ipython3",
   "version": "3.10.10"
  }
 },
 "nbformat": 4,
 "nbformat_minor": 5
}
