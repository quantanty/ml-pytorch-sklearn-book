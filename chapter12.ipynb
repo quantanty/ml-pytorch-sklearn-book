{
 "cells": [
  {
   "cell_type": "code",
   "execution_count": 1,
   "id": "1178322a",
   "metadata": {},
   "outputs": [
    {
     "name": "stdout",
     "output_type": "stream",
     "text": [
      "tensor([1, 2, 3])\n",
      "tensor([4, 5, 6], dtype=torch.int32)\n"
     ]
    }
   ],
   "source": [
    "import torch\n",
    "import numpy as np\n",
    "np.set_printoptions(precision=3)\n",
    "a = [1, 2, 3]\n",
    "b = np.array([4, 5, 6], dtype=np.int32)\n",
    "t_a = torch.tensor(a)\n",
    "t_b = torch.from_numpy(b)\n",
    "print(t_a)\n",
    "print(t_b)"
   ]
  },
  {
   "cell_type": "code",
   "execution_count": 3,
   "id": "2cbc4e06",
   "metadata": {},
   "outputs": [
    {
     "name": "stdout",
     "output_type": "stream",
     "text": [
      "torch.Size([2, 3])\n",
      "tensor([[1., 1., 1.],\n",
      "        [1., 1., 1.]])\n"
     ]
    }
   ],
   "source": [
    "t_ones = torch.ones(2, 3)\n",
    "print(t_ones.shape)\n",
    "print(t_ones)"
   ]
  },
  {
   "cell_type": "code",
   "execution_count": 4,
   "id": "093afde0",
   "metadata": {},
   "outputs": [
    {
     "name": "stdout",
     "output_type": "stream",
     "text": [
      "tensor([[0.9706, 0.5404, 0.0671],\n",
      "        [0.2190, 0.5036, 0.0804]])\n"
     ]
    }
   ],
   "source": [
    "rand_tensor = torch.rand(2, 3)\n",
    "print(rand_tensor)"
   ]
  },
  {
   "cell_type": "code",
   "execution_count": 5,
   "id": "71dce2d7",
   "metadata": {},
   "outputs": [
    {
     "name": "stdout",
     "output_type": "stream",
     "text": [
      "torch.int64\n"
     ]
    }
   ],
   "source": [
    "t_a_new = t_a.to(torch.int64)\n",
    "print(t_a_new.dtype)"
   ]
  },
  {
   "cell_type": "code",
   "execution_count": 6,
   "id": "8299b059",
   "metadata": {},
   "outputs": [
    {
     "name": "stdout",
     "output_type": "stream",
     "text": [
      "torch.Size([3, 5]) --> torch.Size([5, 3])\n"
     ]
    }
   ],
   "source": [
    "t = torch.rand(3, 5)\n",
    "t_tr = torch.transpose(t, 0, 1)\n",
    "print(t.shape, '-->', t_tr.shape)"
   ]
  },
  {
   "cell_type": "code",
   "execution_count": 7,
   "id": "9d847655",
   "metadata": {},
   "outputs": [
    {
     "name": "stdout",
     "output_type": "stream",
     "text": [
      "torch.Size([5, 6])\n"
     ]
    }
   ],
   "source": [
    "t = torch.zeros(30)\n",
    "t_reshape = t.reshape(5, 6)\n",
    "print(t_reshape.shape)"
   ]
  },
  {
   "cell_type": "code",
   "execution_count": 10,
   "id": "4d8f1147",
   "metadata": {},
   "outputs": [
    {
     "name": "stdout",
     "output_type": "stream",
     "text": [
      "torch.Size([1, 2, 1, 4, 1]) --> torch.Size([2, 1, 4, 1])\n"
     ]
    }
   ],
   "source": [
    "t = torch.zeros(1, 2, 1, 4, 1)\n",
    "t_sqz = torch.squeeze(t, 0)\n",
    "print(t.shape, '-->', t_sqz.shape)"
   ]
  },
  {
   "cell_type": "code",
   "execution_count": 11,
   "id": "7918e167",
   "metadata": {},
   "outputs": [],
   "source": [
    "torch.manual_seed(1)\n",
    "t1 = 2 * torch.rand(5, 2) - 1\n",
    "t2 = torch.normal(mean=0, std=1, size=(5, 2))"
   ]
  },
  {
   "cell_type": "code",
   "execution_count": 12,
   "id": "b852f063",
   "metadata": {},
   "outputs": [
    {
     "name": "stdout",
     "output_type": "stream",
     "text": [
      "tensor([[ 0.4426, -0.3114],\n",
      "        [ 0.0660, -0.5970],\n",
      "        [ 1.1249,  0.0150],\n",
      "        [ 0.1569,  0.7107],\n",
      "        [-0.0451, -0.0352]])\n"
     ]
    }
   ],
   "source": [
    "t3 = torch.multiply(t1, t2)\n",
    "print(t3)"
   ]
  },
  {
   "cell_type": "code",
   "execution_count": 13,
   "id": "f4567cdf",
   "metadata": {},
   "outputs": [
    {
     "name": "stdout",
     "output_type": "stream",
     "text": [
      "tensor([-0.1373,  0.2028])\n"
     ]
    }
   ],
   "source": [
    "t4 = torch.mean(t1, axis=0)\n",
    "print(t4)"
   ]
  },
  {
   "cell_type": "code",
   "execution_count": 14,
   "id": "93ab9a61",
   "metadata": {},
   "outputs": [
    {
     "name": "stdout",
     "output_type": "stream",
     "text": [
      "tensor([[ 0.1312,  0.3860, -0.6267, -1.0096, -0.2943],\n",
      "        [ 0.1647, -0.5310,  0.2434,  0.8035,  0.1980],\n",
      "        [-0.3855, -0.4422,  1.1399,  1.5558,  0.4781],\n",
      "        [ 0.1822, -0.5771,  0.2585,  0.8676,  0.2132],\n",
      "        [ 0.0330,  0.1084, -0.1692, -0.2771, -0.0804]])\n"
     ]
    }
   ],
   "source": [
    "t5 = torch.matmul(t1, torch.transpose(t2, 0, 1))\n",
    "print(t5)"
   ]
  },
  {
   "cell_type": "code",
   "execution_count": 15,
   "id": "91c8834d",
   "metadata": {},
   "outputs": [
    {
     "name": "stdout",
     "output_type": "stream",
     "text": [
      "tensor([[ 1.7453,  0.3392],\n",
      "        [-1.6038, -0.2180]])\n"
     ]
    }
   ],
   "source": [
    "t6 = torch.matmul(torch.transpose(t1, 0, 1), t2)\n",
    "print(t6)"
   ]
  },
  {
   "cell_type": "code",
   "execution_count": 16,
   "id": "e9a7ca97",
   "metadata": {},
   "outputs": [
    {
     "name": "stdout",
     "output_type": "stream",
     "text": [
      "tensor([0.6785, 0.5078, 1.1162, 0.5488, 0.1853])\n"
     ]
    }
   ],
   "source": [
    "norm_t1 = torch.linalg.norm(t1, ord=2, dim=1)\n",
    "print(norm_t1)"
   ]
  },
  {
   "cell_type": "code",
   "execution_count": 17,
   "id": "f08c58ff",
   "metadata": {},
   "outputs": [
    {
     "name": "stdout",
     "output_type": "stream",
     "text": [
      "tensor([0.7576, 0.2793, 0.4031, 0.7347, 0.0293, 0.7999])\n"
     ]
    }
   ],
   "source": [
    "torch.manual_seed(1)\n",
    "t = torch.rand(6)\n",
    "print(t)"
   ]
  },
  {
   "cell_type": "code",
   "execution_count": 18,
   "id": "49926fcb",
   "metadata": {},
   "outputs": [
    {
     "data": {
      "text/plain": [
       "[array([0.758, 0.279], dtype=float32),\n",
       " array([0.403, 0.735], dtype=float32),\n",
       " array([0.029, 0.8  ], dtype=float32)]"
      ]
     },
     "execution_count": 18,
     "metadata": {},
     "output_type": "execute_result"
    }
   ],
   "source": [
    "t_splits = torch.chunk(t, 3)\n",
    "[item.numpy() for item in t_splits]"
   ]
  },
  {
   "cell_type": "code",
   "execution_count": 19,
   "id": "5fde4a7c",
   "metadata": {},
   "outputs": [
    {
     "name": "stdout",
     "output_type": "stream",
     "text": [
      "tensor([0.7576, 0.2793, 0.4031, 0.7347, 0.0293])\n"
     ]
    }
   ],
   "source": [
    "torch.manual_seed(1)\n",
    "t = torch.rand(5)\n",
    "print(t)"
   ]
  },
  {
   "cell_type": "code",
   "execution_count": 20,
   "id": "2fe52092",
   "metadata": {},
   "outputs": [
    {
     "data": {
      "text/plain": [
       "[array([0.758, 0.279, 0.403], dtype=float32),\n",
       " array([0.735, 0.029], dtype=float32)]"
      ]
     },
     "execution_count": 20,
     "metadata": {},
     "output_type": "execute_result"
    }
   ],
   "source": [
    "t_splits = torch.split(t, split_size_or_sections=[3, 2])\n",
    "[item.numpy() for item in t_splits]"
   ]
  },
  {
   "cell_type": "code",
   "execution_count": 21,
   "id": "ff456c4c",
   "metadata": {},
   "outputs": [
    {
     "name": "stdout",
     "output_type": "stream",
     "text": [
      "tensor([1., 1., 1., 0., 0.])\n"
     ]
    }
   ],
   "source": [
    "A = torch.ones(3)\n",
    "B = torch.zeros(2)\n",
    "C = torch.cat([A, B], axis=0)\n",
    "print(C)"
   ]
  },
  {
   "cell_type": "code",
   "execution_count": 22,
   "id": "f80faef2",
   "metadata": {},
   "outputs": [
    {
     "name": "stdout",
     "output_type": "stream",
     "text": [
      "tensor([[1., 0.],\n",
      "        [1., 0.],\n",
      "        [1., 0.]])\n"
     ]
    }
   ],
   "source": [
    "A = torch.ones(3)\n",
    "B = torch.zeros(3)\n",
    "S = torch.stack([A, B], axis=1)\n",
    "print(S)"
   ]
  },
  {
   "cell_type": "code",
   "execution_count": null,
   "id": "757f2f93",
   "metadata": {},
   "outputs": [],
   "source": []
  }
 ],
 "metadata": {
  "kernelspec": {
   "display_name": "jupyter-env",
   "language": "python",
   "name": "python3"
  },
  "language_info": {
   "codemirror_mode": {
    "name": "ipython",
    "version": 3
   },
   "file_extension": ".py",
   "mimetype": "text/x-python",
   "name": "python",
   "nbconvert_exporter": "python",
   "pygments_lexer": "ipython3",
   "version": "3.12.3"
  }
 },
 "nbformat": 4,
 "nbformat_minor": 5
}
