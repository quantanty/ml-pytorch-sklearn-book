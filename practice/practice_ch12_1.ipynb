{
 "cells": [
  {
   "cell_type": "code",
   "execution_count": 1,
   "id": "dc977aa1",
   "metadata": {},
   "outputs": [],
   "source": [
    "import matplotlib.pyplot as plt\n",
    "import torch\n",
    "import torchvision"
   ]
  },
  {
   "cell_type": "code",
   "execution_count": 2,
   "id": "141ae47d",
   "metadata": {},
   "outputs": [],
   "source": [
    "image_path = \"../data\"\n",
    "celeba_dataset = torchvision.datasets.CelebA(image_path, split='train', target_type='attr', download=False)\n",
    "assert isinstance(celeba_dataset, torch.utils.data.Dataset)"
   ]
  },
  {
   "cell_type": "code",
   "execution_count": 4,
   "id": "3ce63e1c",
   "metadata": {},
   "outputs": [],
   "source": [
    "from torchvision import transforms\n",
    "transform = transforms.Compose([\n",
    "    transforms.Resize((128, 128)),\n",
    "    transforms.Grayscale(),\n",
    "    transforms.ToTensor(),\n",
    "    transforms.Normalize(mean=[0.5], std=[0.5])\n",
    "])"
   ]
  },
  {
   "cell_type": "code",
   "execution_count": 21,
   "id": "5a1b318d",
   "metadata": {},
   "outputs": [],
   "source": [
    "from torch.utils.data import Dataset\n",
    "class ImageDataset(Dataset):\n",
    "    def __init__(self, source_dataset, transform=None):\n",
    "        super().__init__()\n",
    "        self.source_dataset = source_dataset\n",
    "        self.transform = transform\n",
    "    \n",
    "    def __getitem__(self, index):\n",
    "        img, lbl = self.source_dataset[index]\n",
    "        if self.transform is not None:\n",
    "            img = self.transform(img)\n",
    "\n",
    "        return img, lbl[20]\n",
    "\n",
    "    def __len__(self):\n",
    "        return len(self.source_dataset)"
   ]
  },
  {
   "cell_type": "code",
   "execution_count": 6,
   "id": "de88d11f",
   "metadata": {},
   "outputs": [
    {
     "data": {
      "text/plain": [
       "[(0, '5_o_Clock_Shadow'),\n",
       " (1, 'Arched_Eyebrows'),\n",
       " (2, 'Attractive'),\n",
       " (3, 'Bags_Under_Eyes'),\n",
       " (4, 'Bald'),\n",
       " (5, 'Bangs'),\n",
       " (6, 'Big_Lips'),\n",
       " (7, 'Big_Nose'),\n",
       " (8, 'Black_Hair'),\n",
       " (9, 'Blond_Hair'),\n",
       " (10, 'Blurry'),\n",
       " (11, 'Brown_Hair'),\n",
       " (12, 'Bushy_Eyebrows'),\n",
       " (13, 'Chubby'),\n",
       " (14, 'Double_Chin'),\n",
       " (15, 'Eyeglasses'),\n",
       " (16, 'Goatee'),\n",
       " (17, 'Gray_Hair'),\n",
       " (18, 'Heavy_Makeup'),\n",
       " (19, 'High_Cheekbones'),\n",
       " (20, 'Male'),\n",
       " (21, 'Mouth_Slightly_Open'),\n",
       " (22, 'Mustache'),\n",
       " (23, 'Narrow_Eyes'),\n",
       " (24, 'No_Beard'),\n",
       " (25, 'Oval_Face'),\n",
       " (26, 'Pale_Skin'),\n",
       " (27, 'Pointy_Nose'),\n",
       " (28, 'Receding_Hairline'),\n",
       " (29, 'Rosy_Cheeks'),\n",
       " (30, 'Sideburns'),\n",
       " (31, 'Smiling'),\n",
       " (32, 'Straight_Hair'),\n",
       " (33, 'Wavy_Hair'),\n",
       " (34, 'Wearing_Earrings'),\n",
       " (35, 'Wearing_Hat'),\n",
       " (36, 'Wearing_Lipstick'),\n",
       " (37, 'Wearing_Necklace'),\n",
       " (38, 'Wearing_Necktie'),\n",
       " (39, 'Young'),\n",
       " (40, '')]"
      ]
     },
     "execution_count": 6,
     "metadata": {},
     "output_type": "execute_result"
    }
   ],
   "source": [
    "list(enumerate(celeba_dataset.attr_names))"
   ]
  },
  {
   "cell_type": "code",
   "execution_count": 12,
   "id": "ac551342",
   "metadata": {},
   "outputs": [
    {
     "data": {
      "text/plain": [
       "(59895, 92354)"
      ]
     },
     "execution_count": 12,
     "metadata": {},
     "output_type": "execute_result"
    }
   ],
   "source": [
    "male_indices = [i for i in range(len(celeba_dataset)) if celeba_dataset.attr[i, 20] == 1 and celeba_dataset.attr[i, 15] == 0]\n",
    "female_indices = [i for i in range(len(celeba_dataset)) if celeba_dataset.attr[i, 20] == 0 and celeba_dataset.attr[i, 15] == 0]\n",
    "len(male_indices), len(female_indices)"
   ]
  },
  {
   "cell_type": "code",
   "execution_count": 13,
   "id": "fa99f044",
   "metadata": {},
   "outputs": [],
   "source": [
    "import random\n",
    "random.shuffle(male_indices)\n",
    "random.shuffle(female_indices)"
   ]
  },
  {
   "cell_type": "code",
   "execution_count": 16,
   "id": "5b322012",
   "metadata": {},
   "outputs": [],
   "source": [
    "from torch.utils.data import Subset\n",
    "train_indices = male_indices[:1000] + female_indices[:1000]\n",
    "random.shuffle(train_indices)\n",
    "train_set_raw = Subset(celeba_dataset, train_indices)\n",
    "\n",
    "valid_indices = male_indices[1000:2000] + female_indices[1000:2000]\n",
    "random.shuffle(valid_indices)\n",
    "valid_set_raw = Subset(celeba_dataset, valid_indices)\n",
    "\n",
    "test_indices = male_indices[2000:3000] + female_indices[2000:3000]\n",
    "random.shuffle(test_indices)\n",
    "test_set_raw = Subset(celeba_dataset, test_indices)"
   ]
  },
  {
   "cell_type": "code",
   "execution_count": 39,
   "id": "cb3722f6",
   "metadata": {},
   "outputs": [],
   "source": [
    "from torch.utils.data import DataLoader\n",
    "train_set = ImageDataset(train_set_raw, transform)\n",
    "train_loader = DataLoader(train_set, batch_size=16, shuffle=True, num_workers=4)\n",
    "\n",
    "valid_set = ImageDataset(valid_set_raw, transform)\n",
    "valid_loader = DataLoader(valid_set, batch_size=16, num_workers=4)"
   ]
  },
  {
   "cell_type": "code",
   "execution_count": 63,
   "id": "8f36959a",
   "metadata": {},
   "outputs": [],
   "source": [
    "import torch.nn as nn\n",
    "import torch.nn.functional as F\n",
    "\n",
    "# class Model(nn.Module):\n",
    "#     def __init__(self, input_size):\n",
    "#         super().__init__()\n",
    "#         self.fc1 = nn.Linear(input_size, 512)\n",
    "#         self.fc2 = nn.Linear(512, 128)\n",
    "#         self.fc3 = nn.Linear(128, 2)\n",
    "\n",
    "#     def forward(self, x):\n",
    "#         x = x.view(x.size(0), -1)\n",
    "#         x = F.relu(self.fc1(x))\n",
    "#         x = F.relu(self.fc2(x))\n",
    "#         x = self.fc3(x)\n",
    "#         return x\n",
    "\n",
    "class Model(nn.Module):\n",
    "    def __init__(self):\n",
    "        super().__init__()\n",
    "        self.conv1 = nn.Conv2d(1, 32, kernel_size=3, padding=1)\n",
    "        self.pool = nn.MaxPool2d(2, 2)\n",
    "        self.conv2 = nn.Conv2d(32, 64, kernel_size=3, padding=1)\n",
    "        self.conv3 = nn.Conv2d(64, 128, kernel_size=3, padding=1)\n",
    "        self.fc1 = nn.Linear(128 * 16 * 16, 256)\n",
    "        self.fc2 = nn.Linear(256, 2)\n",
    "\n",
    "    def forward(self, x):\n",
    "        x = self.pool(F.relu(self.conv1(x))) # 128 -> 64\n",
    "        x = self.pool(F.relu(self.conv2(x))) # 64 -> 32\n",
    "        x = self.pool(F.relu(self.conv3(x))) # 32 -> 16\n",
    "        x = x.view(-1, 128 * 16 * 16)\n",
    "        x = F.relu(self.fc1(x))\n",
    "        x = self.fc2(x)\n",
    "        return x"
   ]
  },
  {
   "cell_type": "code",
   "execution_count": 70,
   "id": "dabbb5fe",
   "metadata": {},
   "outputs": [
    {
     "name": "stdout",
     "output_type": "stream",
     "text": [
      "Epoch 0, Train loss: 0.490956841468811, Train accuracy: 0.777, Valid loss: 0.5132963006496429, Valid accuracy: 0.756\n",
      "Epoch 1, Train loss: 0.39588954907655716, Train accuracy: 0.801, Valid loss: 0.4560957803726196, Valid accuracy: 0.78\n",
      "Epoch 2, Train loss: 0.20260274118185043, Train accuracy: 0.9345, Valid loss: 0.2905902717411518, Valid accuracy: 0.8825\n",
      "Epoch 3, Train loss: 0.1975086787045002, Train accuracy: 0.92, Valid loss: 0.301427213460207, Valid accuracy: 0.8785\n",
      "Epoch 4, Train loss: 0.12736960431933403, Train accuracy: 0.9575, Valid loss: 0.24528549812734127, Valid accuracy: 0.902\n",
      "Epoch 5, Train loss: 0.11444338951259851, Train accuracy: 0.9555, Valid loss: 0.26047534921765325, Valid accuracy: 0.9005\n",
      "Epoch 6, Train loss: 0.073920868717134, Train accuracy: 0.974, Valid loss: 0.2636189236454666, Valid accuracy: 0.9015\n",
      "Epoch 7, Train loss: 0.05428995654918253, Train accuracy: 0.9865, Valid loss: 0.24439447350241245, Valid accuracy: 0.9095\n",
      "Epoch 8, Train loss: 0.03733075340278447, Train accuracy: 0.993, Valid loss: 0.27608947951905427, Valid accuracy: 0.9115\n",
      "Epoch 9, Train loss: 0.02800652755331248, Train accuracy: 0.994, Valid loss: 0.28548853952623904, Valid accuracy: 0.9095\n"
     ]
    }
   ],
   "source": [
    "device = torch.device('cuda' if torch.cuda.is_available() else 'cpu')\n",
    "# input_size = 128*128\n",
    "# model = Model(input_size).to(device)\n",
    "model = Model().to(device)\n",
    "\n",
    "lr = 0.0001\n",
    "loss_fn = nn.CrossEntropyLoss()\n",
    "optimizer = torch.optim.Adam(model.parameters(), lr=lr)\n",
    "\n",
    "num_epochs = 10\n",
    "loss_hist = [0] * num_epochs\n",
    "accuracy_hist = [0] * num_epochs\n",
    "val_loss_hist = [0] * num_epochs\n",
    "val_accuracy_hist = [0] * num_epochs\n",
    "\n",
    "for epoch in range(num_epochs):\n",
    "    for x_batch, y_batch in train_loader:\n",
    "        x_batch = x_batch.to(device)\n",
    "        y_batch = y_batch.to(device)\n",
    "\n",
    "        pred = model(x_batch)\n",
    "        loss = loss_fn(pred, y_batch)\n",
    "        loss.backward()\n",
    "        optimizer.step()\n",
    "        optimizer.zero_grad()\n",
    "\n",
    "        \n",
    "    \n",
    "    with torch.no_grad():\n",
    "        for x_batch, y_batch in train_loader:\n",
    "            x_batch = x_batch.to(device)\n",
    "            y_batch = y_batch.to(device)\n",
    "\n",
    "            pred = model(x_batch)\n",
    "            loss = loss_fn(pred, y_batch)\n",
    "\n",
    "            loss_hist[epoch] += loss.item() * y_batch.size(0)\n",
    "            is_correct = (torch.argmax(pred, dim=1) == y_batch).float()\n",
    "            accuracy_hist[epoch] += is_correct.sum().item()\n",
    "\n",
    "        for x_batch, y_batch in valid_loader:\n",
    "            x_batch = x_batch.to(device)\n",
    "            y_batch = y_batch.to(device)\n",
    "\n",
    "            pred = model(x_batch)\n",
    "            loss = loss_fn(pred, y_batch)\n",
    "\n",
    "            val_loss_hist[epoch] += loss.item() * y_batch.size(0)\n",
    "            is_correct = (torch.argmax(pred, dim=1) == y_batch).float()\n",
    "            val_accuracy_hist[epoch] += is_correct.sum().item()\n",
    "\n",
    "    loss_hist[epoch] /= len(train_loader.dataset)\n",
    "    accuracy_hist[epoch] /= len(train_loader.dataset)\n",
    "    val_loss_hist[epoch] /= len(valid_loader.dataset)\n",
    "    val_accuracy_hist[epoch] /= len(valid_loader.dataset)\n",
    "    print(f'Epoch {epoch}, Train loss: {loss_hist[epoch]}, Train accuracy: {accuracy_hist[epoch]}, Valid loss: {val_loss_hist[epoch]}, Valid accuracy: {val_accuracy_hist[epoch]}')"
   ]
  },
  {
   "cell_type": "code",
   "execution_count": 71,
   "id": "c72c2539",
   "metadata": {},
   "outputs": [
    {
     "data": {
      "image/png": "[encoded data removed]",
      "text/plain": [
       "<Figure size 640x480 with 1 Axes>"
      ]
     },
     "metadata": {},
     "output_type": "display_data"
    }
   ],
   "source": [
    "plt.plot(range(num_epochs), loss_hist, c='blue', label='Train loss')\n",
    "plt.plot(range(num_epochs), val_loss_hist, c='orange', label='Valid loss')\n",
    "plt.tight_layout()\n",
    "plt.legend()\n",
    "plt.show()"
   ]
  },
  {
   "cell_type": "code",
   "execution_count": 72,
   "id": "ea9de384",
   "metadata": {},
   "outputs": [
    {
     "data": {
      "image/png": "[encoded data removed]",
      "text/plain": [
       "<Figure size 640x480 with 1 Axes>"
      ]
     },
     "metadata": {},
     "output_type": "display_data"
    }
   ],
   "source": [
    "# accuracy_hist = [x.cpu() for x in accuracy_hist]\n",
    "# val_accuracy_hist = [x.cpu() for x in val_accuracy_hist]\n",
    "plt.plot(range(num_epochs), accuracy_hist, c='blue', label='Train accuracy')\n",
    "plt.plot(range(num_epochs), val_accuracy_hist, c='orange', label='Valid accuracy')\n",
    "plt.tight_layout()\n",
    "plt.legend()\n",
    "plt.show()"
   ]
  }
 ],
 "metadata": {
  "kernelspec": {
   "display_name": "jupyter-env",
   "language": "python",
   "name": "python3"
  },
  "language_info": {
   "codemirror_mode": {
    "name": "ipython",
    "version": 3
   },
   "file_extension": ".py",
   "mimetype": "text/x-python",
   "name": "python",
   "nbconvert_exporter": "python",
   "pygments_lexer": "ipython3",
   "version": "3.12.3"
  }
 },
 "nbformat": 4,
 "nbformat_minor": 5
}
